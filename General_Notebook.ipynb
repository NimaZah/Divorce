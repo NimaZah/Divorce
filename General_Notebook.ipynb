{
  "nbformat": 4,
  "nbformat_minor": 0,
  "metadata": {
    "colab": {
      "name": "General Notebook",
      "provenance": [],
      "authorship_tag": "ABX9TyNmAmSOn5YckQSotXMKpIE/",
      "include_colab_link": true
    },
    "kernelspec": {
      "name": "python3",
      "display_name": "Python 3"
    },
    "language_info": {
      "name": "python"
    }
  },
  "cells": [
    {
      "cell_type": "markdown",
      "metadata": {
        "id": "view-in-github",
        "colab_type": "text"
      },
      "source": [
        "<a href=\"https://colab.research.google.com/github/NimaZah/Divorce/blob/main/General_Notebook.ipynb\" target=\"_parent\"><img src=\"https://colab.research.google.com/assets/colab-badge.svg\" alt=\"Open In Colab\"/></a>"
      ]
    },
    {
      "cell_type": "code",
      "execution_count": 6,
      "metadata": {
        "id": "oD2gi4IKCxlR",
        "colab": {
          "base_uri": "https://localhost:8080/"
        },
        "outputId": "e7a14922-bb28-4f73-810f-184bb548f604"
      },
      "outputs": [
        {
          "output_type": "stream",
          "name": "stdout",
          "text": [
            "              precision    recall  f1-score   support\n",
            "\n",
            "           0       0.96      1.00      0.98        25\n",
            "           1       1.00      0.96      0.98        26\n",
            "\n",
            "    accuracy                           0.98        51\n",
            "   macro avg       0.98      0.98      0.98        51\n",
            "weighted avg       0.98      0.98      0.98        51\n",
            "\n",
            "[[25  0]\n",
            " [ 1 25]]\n"
          ]
        }
      ],
      "source": [
        "import pandas as pd\n",
        "import numpy as np\n",
        "import matplotlib.pyplot as plt\n",
        "from sklearn.model_selection import train_test_split\n",
        "from sklearn.neighbors import KNeighborsClassifier\n",
        "from sklearn.metrics import confusion_matrix\n",
        "from sklearn.metrics import classification_report\n",
        "df = pd.read_csv('divorce.csv')\n",
        "\n",
        "# Checking for NA values\n",
        "df.isna().sum()\n",
        "\n",
        "# As there are no null values, so we can continue!\n",
        "# Doing Test Train Split¶\n",
        "Y = df.Divorce_Y_N\n",
        "X = df.drop(['Divorce_Y_N'],axis=1)\n",
        "X_train, X_test, Y_train, Y_test = train_test_split(X, Y, test_size=0.3, random_state=42)\n",
        "\n",
        "# KNN\n",
        "knn = KNeighborsClassifier(n_neighbors=3)\n",
        "knn.fit(X_train, Y_train)\n",
        "prediction = knn.predict(X_test)\n",
        "print(classification_report(Y_test, prediction))\n",
        "print(confusion_matrix(Y_test, prediction))"
      ]
    },
    {
      "cell_type": "code",
      "source": [
        ""
      ],
      "metadata": {
        "id": "Rp1LDg8sQsHc"
      },
      "execution_count": null,
      "outputs": []
    }
  ]
}